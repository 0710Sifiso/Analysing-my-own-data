{
 "cells": [
  {
   "cell_type": "markdown",
   "id": "a3c459b0",
   "metadata": {},
   "source": [
    "# In this code, I took my bank statement of July 2024 which is in terms of pdf file and convert it to csv file so I can use it in Excel to do my analysis."
   ]
  },
  {
   "cell_type": "code",
   "execution_count": 12,
   "id": "a08735e8",
   "metadata": {},
   "outputs": [],
   "source": [
    "#The modules used\n",
    "import pdfplumber\n",
    "import pandas as pd"
   ]
  },
  {
   "cell_type": "code",
   "execution_count": 13,
   "id": "e4fcb9a7",
   "metadata": {},
   "outputs": [
    {
     "name": "stdout",
     "output_type": "stream",
     "text": [
      "CSV file created: output.csv\n"
     ]
    }
   ],
   "source": [
    "pdf_path = \"account_statement.pdf\"                          # Load the pdf\n",
    "csv_path = \"output.csv\"                                     # saving the csv file\n",
    "\n",
    "data = []\n",
    "with pdfplumber.open(pdf_path) as pdf:\n",
    "    for page in pdf.pages:\n",
    "        text = page.extract_text()\n",
    "        if text:\n",
    "            lines = text.split(\"\\n\")                         # Split into lines\n",
    "            for line in lines:\n",
    "                row = line.split()                           # Split by whitespace\n",
    "                data.append(row)\n",
    "\n",
    "if data:\n",
    "    df = pd.DataFrame(data)\n",
    "    df.to_csv(csv_path, index=False, header=False)\n",
    "    print(f\"CSV file created: {csv_path}\")\n",
    "else:\n",
    "    print(\"No readable text found in the PDF.\")\n"
   ]
  },
  {
   "cell_type": "code",
   "execution_count": 14,
   "id": "0410503a",
   "metadata": {},
   "outputs": [],
   "source": [
    "df = pd.read_csv(\"output.csv\")                              # Load the CSV into a DataFrame\n",
    "# print(df)                                                   # Display the content\n"
   ]
  },
  {
   "cell_type": "code",
   "execution_count": null,
   "id": "f39a1626",
   "metadata": {},
   "outputs": [],
   "source": []
  }
 ],
 "metadata": {
  "kernelspec": {
   "display_name": "Python 3",
   "language": "python",
   "name": "python3"
  },
  "language_info": {
   "codemirror_mode": {
    "name": "ipython",
    "version": 3
   },
   "file_extension": ".py",
   "mimetype": "text/x-python",
   "name": "python",
   "nbconvert_exporter": "python",
   "pygments_lexer": "ipython3",
   "version": "3.8.8"
  }
 },
 "nbformat": 4,
 "nbformat_minor": 5
}
